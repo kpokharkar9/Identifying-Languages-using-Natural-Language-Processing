{
 "cells": [
  {
   "cell_type": "code",
   "execution_count": 1,
   "id": "79e75c40",
   "metadata": {},
   "outputs": [],
   "source": [
    "from transformers import MarianMTModel, MarianTokenizer\n",
    "import joblib\n",
    "import os"
   ]
  },
  {
   "cell_type": "code",
   "execution_count": 2,
   "id": "8f3732be",
   "metadata": {},
   "outputs": [],
   "source": [
    "languages = [\"bg\", \"cs\", \"da\", \"de\", \"es\", \"fi\", \"fr\", \"hu\", \"it\", \"lv\", \"nl\", \"pl\", \"pt\", \"ro\", \"sl\", \"sv\"]"
   ]
  },
  {
   "cell_type": "code",
   "execution_count": 3,
   "id": "ddf69671",
   "metadata": {},
   "outputs": [],
   "source": [
    "model_base_dir = \"models/translation_model\"\n",
    "os.makedirs(model_base_dir, exist_ok=True)"
   ]
  },
  {
   "cell_type": "code",
   "execution_count": 4,
   "id": "39c6300b",
   "metadata": {},
   "outputs": [],
   "source": [
    "missing_models = []"
   ]
  },
  {
   "cell_type": "code",
   "execution_count": 5,
   "id": "1889a8ca",
   "metadata": {},
   "outputs": [],
   "source": [
    "def download_and_save_model(lang, direction):\n",
    "    model_name = f\"Helsinki-NLP/opus-mt-{direction}\"\n",
    "    print(f\"Attempting to download and save model: {model_name}\")\n",
    "    try:\n",
    "        tokenizer = MarianTokenizer.from_pretrained(model_name)\n",
    "        model = MarianMTModel.from_pretrained(model_name)\n",
    "\n",
    "        pair_dir = os.path.join(model_base_dir, lang, direction)\n",
    "        os.makedirs(pair_dir, exist_ok=True)\n",
    "\n",
    "        tokenizer_path = os.path.join(pair_dir, \"tokenizer.joblib\")\n",
    "        model_path = os.path.join(pair_dir, \"model.joblib\")\n",
    "\n",
    "        joblib.dump(tokenizer, tokenizer_path, compress=3)\n",
    "        joblib.dump(model, model_path, compress=3)\n",
    "        print(f\"Successfully downloaded and saved model: {model_name}\\n\")\n",
    "    except Exception as e:\n",
    "        print(f\"\\nModel {model_name} not found: {e}\\n\")\n",
    "        missing_models.append(model_name)\n"
   ]
  },
  {
   "cell_type": "code",
   "execution_count": 6,
   "id": "9fd0ab85",
   "metadata": {},
   "outputs": [
    {
     "name": "stdout",
     "output_type": "stream",
     "text": [
      "Attempting to download and save model: Helsinki-NLP/opus-mt-bg-en\n"
     ]
    },
    {
     "name": "stderr",
     "output_type": "stream",
     "text": [
      "/Users/kasturipokharkar/anaconda3/envs/tf/lib/python3.10/site-packages/huggingface_hub/file_download.py:1132: FutureWarning: `resume_download` is deprecated and will be removed in version 1.0.0. Downloads always resume when possible. If you want to force a new download, use `force_download=True`.\n",
      "  warnings.warn(\n",
      "/Users/kasturipokharkar/anaconda3/envs/tf/lib/python3.10/site-packages/transformers/models/marian/tokenization_marian.py:194: UserWarning: Recommended: pip install sacremoses.\n",
      "  warnings.warn(\"Recommended: pip install sacremoses.\")\n"
     ]
    },
    {
     "name": "stdout",
     "output_type": "stream",
     "text": [
      "Successfully downloaded and saved model: Helsinki-NLP/opus-mt-bg-en\n",
      "\n",
      "Attempting to download and save model: Helsinki-NLP/opus-mt-en-bg\n",
      "Successfully downloaded and saved model: Helsinki-NLP/opus-mt-en-bg\n",
      "\n",
      "Attempting to download and save model: Helsinki-NLP/opus-mt-cs-en\n",
      "Successfully downloaded and saved model: Helsinki-NLP/opus-mt-cs-en\n",
      "\n",
      "Attempting to download and save model: Helsinki-NLP/opus-mt-en-cs\n",
      "Successfully downloaded and saved model: Helsinki-NLP/opus-mt-en-cs\n",
      "\n",
      "Attempting to download and save model: Helsinki-NLP/opus-mt-da-en\n",
      "Successfully downloaded and saved model: Helsinki-NLP/opus-mt-da-en\n",
      "\n",
      "Attempting to download and save model: Helsinki-NLP/opus-mt-en-da\n",
      "Successfully downloaded and saved model: Helsinki-NLP/opus-mt-en-da\n",
      "\n",
      "Attempting to download and save model: Helsinki-NLP/opus-mt-de-en\n",
      "Successfully downloaded and saved model: Helsinki-NLP/opus-mt-de-en\n",
      "\n",
      "Attempting to download and save model: Helsinki-NLP/opus-mt-en-de\n",
      "Successfully downloaded and saved model: Helsinki-NLP/opus-mt-en-de\n",
      "\n",
      "Attempting to download and save model: Helsinki-NLP/opus-mt-es-en\n",
      "Successfully downloaded and saved model: Helsinki-NLP/opus-mt-es-en\n",
      "\n",
      "Attempting to download and save model: Helsinki-NLP/opus-mt-en-es\n",
      "Successfully downloaded and saved model: Helsinki-NLP/opus-mt-en-es\n",
      "\n",
      "Attempting to download and save model: Helsinki-NLP/opus-mt-fi-en\n",
      "Successfully downloaded and saved model: Helsinki-NLP/opus-mt-fi-en\n",
      "\n",
      "Attempting to download and save model: Helsinki-NLP/opus-mt-en-fi\n",
      "Successfully downloaded and saved model: Helsinki-NLP/opus-mt-en-fi\n",
      "\n",
      "Attempting to download and save model: Helsinki-NLP/opus-mt-fr-en\n",
      "Successfully downloaded and saved model: Helsinki-NLP/opus-mt-fr-en\n",
      "\n",
      "Attempting to download and save model: Helsinki-NLP/opus-mt-en-fr\n",
      "Successfully downloaded and saved model: Helsinki-NLP/opus-mt-en-fr\n",
      "\n",
      "Attempting to download and save model: Helsinki-NLP/opus-mt-hu-en\n",
      "Successfully downloaded and saved model: Helsinki-NLP/opus-mt-hu-en\n",
      "\n",
      "Attempting to download and save model: Helsinki-NLP/opus-mt-en-hu\n",
      "Successfully downloaded and saved model: Helsinki-NLP/opus-mt-en-hu\n",
      "\n",
      "Attempting to download and save model: Helsinki-NLP/opus-mt-it-en\n",
      "Successfully downloaded and saved model: Helsinki-NLP/opus-mt-it-en\n",
      "\n",
      "Attempting to download and save model: Helsinki-NLP/opus-mt-en-it\n",
      "Successfully downloaded and saved model: Helsinki-NLP/opus-mt-en-it\n",
      "\n",
      "Attempting to download and save model: Helsinki-NLP/opus-mt-lv-en\n",
      "Successfully downloaded and saved model: Helsinki-NLP/opus-mt-lv-en\n",
      "\n",
      "Attempting to download and save model: Helsinki-NLP/opus-mt-en-lv\n",
      "\n",
      "Model Helsinki-NLP/opus-mt-en-lv not found: Helsinki-NLP/opus-mt-en-lv is not a local folder and is not a valid model identifier listed on 'https://huggingface.co/models'\n",
      "If this is a private repository, make sure to pass a token having permission to this repo either by logging in with `huggingface-cli login` or by passing `token=<your_token>`\n",
      "\n",
      "Attempting to download and save model: Helsinki-NLP/opus-mt-nl-en\n",
      "Successfully downloaded and saved model: Helsinki-NLP/opus-mt-nl-en\n",
      "\n",
      "Attempting to download and save model: Helsinki-NLP/opus-mt-en-nl\n",
      "Successfully downloaded and saved model: Helsinki-NLP/opus-mt-en-nl\n",
      "\n",
      "Attempting to download and save model: Helsinki-NLP/opus-mt-pl-en\n",
      "Successfully downloaded and saved model: Helsinki-NLP/opus-mt-pl-en\n",
      "\n",
      "Attempting to download and save model: Helsinki-NLP/opus-mt-en-pl\n",
      "\n",
      "Model Helsinki-NLP/opus-mt-en-pl not found: Helsinki-NLP/opus-mt-en-pl is not a local folder and is not a valid model identifier listed on 'https://huggingface.co/models'\n",
      "If this is a private repository, make sure to pass a token having permission to this repo either by logging in with `huggingface-cli login` or by passing `token=<your_token>`\n",
      "\n",
      "Attempting to download and save model: Helsinki-NLP/opus-mt-pt-en\n",
      "\n",
      "Model Helsinki-NLP/opus-mt-pt-en not found: Helsinki-NLP/opus-mt-pt-en is not a local folder and is not a valid model identifier listed on 'https://huggingface.co/models'\n",
      "If this is a private repository, make sure to pass a token having permission to this repo either by logging in with `huggingface-cli login` or by passing `token=<your_token>`\n",
      "\n",
      "Attempting to download and save model: Helsinki-NLP/opus-mt-en-pt\n",
      "\n",
      "Model Helsinki-NLP/opus-mt-en-pt not found: Helsinki-NLP/opus-mt-en-pt is not a local folder and is not a valid model identifier listed on 'https://huggingface.co/models'\n",
      "If this is a private repository, make sure to pass a token having permission to this repo either by logging in with `huggingface-cli login` or by passing `token=<your_token>`\n",
      "\n",
      "Attempting to download and save model: Helsinki-NLP/opus-mt-ro-en\n",
      "\n",
      "Model Helsinki-NLP/opus-mt-ro-en not found: Helsinki-NLP/opus-mt-ro-en is not a local folder and is not a valid model identifier listed on 'https://huggingface.co/models'\n",
      "If this is a private repository, make sure to pass a token having permission to this repo either by logging in with `huggingface-cli login` or by passing `token=<your_token>`\n",
      "\n",
      "Attempting to download and save model: Helsinki-NLP/opus-mt-en-ro\n",
      "Successfully downloaded and saved model: Helsinki-NLP/opus-mt-en-ro\n",
      "\n",
      "Attempting to download and save model: Helsinki-NLP/opus-mt-sl-en\n",
      "\n",
      "Model Helsinki-NLP/opus-mt-sl-en not found: Helsinki-NLP/opus-mt-sl-en is not a local folder and is not a valid model identifier listed on 'https://huggingface.co/models'\n",
      "If this is a private repository, make sure to pass a token having permission to this repo either by logging in with `huggingface-cli login` or by passing `token=<your_token>`\n",
      "\n",
      "Attempting to download and save model: Helsinki-NLP/opus-mt-en-sl\n",
      "\n",
      "Model Helsinki-NLP/opus-mt-en-sl not found: Helsinki-NLP/opus-mt-en-sl is not a local folder and is not a valid model identifier listed on 'https://huggingface.co/models'\n",
      "If this is a private repository, make sure to pass a token having permission to this repo either by logging in with `huggingface-cli login` or by passing `token=<your_token>`\n",
      "\n",
      "Attempting to download and save model: Helsinki-NLP/opus-mt-sv-en\n",
      "Successfully downloaded and saved model: Helsinki-NLP/opus-mt-sv-en\n",
      "\n",
      "Attempting to download and save model: Helsinki-NLP/opus-mt-en-sv\n",
      "Successfully downloaded and saved model: Helsinki-NLP/opus-mt-en-sv\n",
      "\n",
      "All available models and tokenizers downloaded and saved.\n",
      "\n",
      "Missing models:\n",
      "Helsinki-NLP/opus-mt-en-lv\n",
      "Helsinki-NLP/opus-mt-en-pl\n",
      "Helsinki-NLP/opus-mt-pt-en\n",
      "Helsinki-NLP/opus-mt-en-pt\n",
      "Helsinki-NLP/opus-mt-ro-en\n",
      "Helsinki-NLP/opus-mt-sl-en\n",
      "Helsinki-NLP/opus-mt-en-sl\n"
     ]
    }
   ],
   "source": [
    "for lang in languages:\n",
    "    lang_dir = os.path.join(model_base_dir, lang)\n",
    "    os.makedirs(lang_dir, exist_ok=True)\n",
    "\n",
    "    # Download and save models for both directions\n",
    "    download_and_save_model(lang, f\"{lang}-en\")\n",
    "    download_and_save_model(lang, f\"en-{lang}\")\n",
    "\n",
    "print(\"All available models and tokenizers downloaded and saved.\")\n",
    "if missing_models:\n",
    "    print(\"\\nMissing models:\")\n",
    "    for model in missing_models:\n",
    "        print(model)"
   ]
  },
  {
   "cell_type": "code",
   "execution_count": null,
   "id": "0ebfefbc",
   "metadata": {},
   "outputs": [],
   "source": []
  }
 ],
 "metadata": {
  "kernelspec": {
   "display_name": "Python 3 (ipykernel)",
   "language": "python",
   "name": "python3"
  },
  "language_info": {
   "codemirror_mode": {
    "name": "ipython",
    "version": 3
   },
   "file_extension": ".py",
   "mimetype": "text/x-python",
   "name": "python",
   "nbconvert_exporter": "python",
   "pygments_lexer": "ipython3",
   "version": "3.10.9"
  }
 },
 "nbformat": 4,
 "nbformat_minor": 5
}
